{
 "cells": [
  {
   "cell_type": "markdown",
   "metadata": {},
   "source": [
    "## Brute Force(무식하게 풀기)\n",
    "\n",
    "- 프로그래밍 대회에서 사람들이 가장 많이 하는 실수는 쉬운 문제를 어렵게 푸는 것.\n",
    "- Brute Force(무식하게 풀기) 방법은 컴퓨터의 빠른 계산 능력을 이용해 가능한 경우의 수를 일일히 나열해 가며 답을 찾는 방식을 의미. \n",
    "    - 가능한 방법을 모두 만들어 보는 알고리즘을 가리켜 완전 탐색(Exhaustive Search)이라고 한다. \n",
    "    - 입력의 크기가 작아 컴퓨터에게는 별 일이 아니지만 사람의 손으로 풀기는 어려울 때 완전 탐색을 활용하면 빠르면서도 쉽게 구현할 수 있는 대안이 되어 준다.\n",
    "    \n",
    "## 재귀 호출\n",
    "\n",
    "- 컴퓨터가 수행하는 많은 작업들은 대개 작은 조각(패턴)으로 나누어 볼 수 있음. \n",
    "    - e.g) 인터넷에서 물건을 구매하는 작업은 ①카드회사에 정보를 보내기, ②데이터베이스 갱신, ③결제 완료 이메일 보내기 등으로 나눌 수 있다. \n",
    "    - 완전히 같은 코드를 반복 실행하는 for문이 가장 좋은 예. \n",
    "    - 패턴이 자주 반복되는 작업을 구현할 때 유용하게 사용되는 개념이 <b>재귀 함수(Recursive Function)</b> 혹은 <b>재귀 호출(Recursion)</b> 이다. \n",
    "- 재귀 함수(재귀 호출)는 자신이 수행할 작업을 유사한 형태의 여러 조각으로 쪼갠 후 그 중 한 조각을 수행하고, 나머지는 자기 자신을 호출해 실행하는 형태의 함수이다. \n",
    "\n",
    "### 재귀 호출의 예시\n",
    "1부터 n까지의 합을 계산하는 반복 함수와 재귀 함수를 각각 구현해 보자."
   ]
  },
  {
   "cell_type": "code",
   "execution_count": 1,
   "metadata": {},
   "outputs": [],
   "source": [
    "# 반복 함수로 문제 풀어보기\n",
    "def sum(n):\n",
    "    ret = 0\n",
    "    for i in range(1, n+1):\n",
    "        ret += i\n",
    "    return ret"
   ]
  },
  {
   "cell_type": "code",
   "execution_count": 2,
   "metadata": {},
   "outputs": [
    {
     "data": {
      "text/plain": [
       "55"
      ]
     },
     "execution_count": 2,
     "metadata": {},
     "output_type": "execute_result"
    }
   ],
   "source": [
    "sum(10)"
   ]
  },
  {
   "cell_type": "code",
   "execution_count": 3,
   "metadata": {},
   "outputs": [],
   "source": [
    "# 재귀 호출로 문제 풀어보기\n",
    "def recursiveSum(n):\n",
    "    if(n==1): \n",
    "        return 1\n",
    "    return n + recursiveSum(n-1)"
   ]
  },
  {
   "cell_type": "code",
   "execution_count": 4,
   "metadata": {},
   "outputs": [
    {
     "data": {
      "text/plain": [
       "55"
      ]
     },
     "execution_count": 4,
     "metadata": {},
     "output_type": "execute_result"
    }
   ],
   "source": [
    "recursiveSum(10)"
   ]
  },
  {
   "cell_type": "markdown",
   "metadata": {},
   "source": [
    "### 중첩 반복문 대체하기 \n",
    "\n",
    "0번부터 차례대로 번호가 매겨진 n개의 원소 중 네 개를 고르는 모든 경우를 출력해 보자. <br>\n",
    "e.g) n=7인 경우 `(0, 1, 2, 3), (0, 1, 2, 4), ..., (3, 4, 5, 6)`"
   ]
  },
  {
   "cell_type": "code",
   "execution_count": 5,
   "metadata": {},
   "outputs": [],
   "source": [
    "# 일단 for문을 중첩해서 풀어보기\n",
    "def printAll(n):\n",
    "    for i in range(n):\n",
    "        for j in range(i+1, n):\n",
    "            for k in range(j+1, n):\n",
    "                for l in range(k+1, n):\n",
    "                    print('(', i, ', ', j, ', ', k, ', ', l, ')')"
   ]
  },
  {
   "cell_type": "code",
   "execution_count": 6,
   "metadata": {
    "scrolled": true
   },
   "outputs": [
    {
     "name": "stdout",
     "output_type": "stream",
     "text": [
      "( 0 ,  1 ,  2 ,  3 )\n",
      "( 0 ,  1 ,  2 ,  4 )\n",
      "( 0 ,  1 ,  2 ,  5 )\n",
      "( 0 ,  1 ,  2 ,  6 )\n",
      "( 0 ,  1 ,  3 ,  4 )\n",
      "( 0 ,  1 ,  3 ,  5 )\n",
      "( 0 ,  1 ,  3 ,  6 )\n",
      "( 0 ,  1 ,  4 ,  5 )\n",
      "( 0 ,  1 ,  4 ,  6 )\n",
      "( 0 ,  1 ,  5 ,  6 )\n",
      "( 0 ,  2 ,  3 ,  4 )\n",
      "( 0 ,  2 ,  3 ,  5 )\n",
      "( 0 ,  2 ,  3 ,  6 )\n",
      "( 0 ,  2 ,  4 ,  5 )\n",
      "( 0 ,  2 ,  4 ,  6 )\n",
      "( 0 ,  2 ,  5 ,  6 )\n",
      "( 0 ,  3 ,  4 ,  5 )\n",
      "( 0 ,  3 ,  4 ,  6 )\n",
      "( 0 ,  3 ,  5 ,  6 )\n",
      "( 0 ,  4 ,  5 ,  6 )\n",
      "( 1 ,  2 ,  3 ,  4 )\n",
      "( 1 ,  2 ,  3 ,  5 )\n",
      "( 1 ,  2 ,  3 ,  6 )\n",
      "( 1 ,  2 ,  4 ,  5 )\n",
      "( 1 ,  2 ,  4 ,  6 )\n",
      "( 1 ,  2 ,  5 ,  6 )\n",
      "( 1 ,  3 ,  4 ,  5 )\n",
      "( 1 ,  3 ,  4 ,  6 )\n",
      "( 1 ,  3 ,  5 ,  6 )\n",
      "( 1 ,  4 ,  5 ,  6 )\n",
      "( 2 ,  3 ,  4 ,  5 )\n",
      "( 2 ,  3 ,  4 ,  6 )\n",
      "( 2 ,  3 ,  5 ,  6 )\n",
      "( 2 ,  4 ,  5 ,  6 )\n",
      "( 3 ,  4 ,  5 ,  6 )\n"
     ]
    }
   ],
   "source": [
    "printAll(7)"
   ]
  },
  {
   "cell_type": "markdown",
   "metadata": {},
   "source": [
    "위와 같이 코드를 짤 경우 만약 5개를 골라야 한다면 for문을 5번 중첩해야 할 것이다. 위와 같은 방식은 골라야 할 원소의 개수가 늘어날수록 코드가 길고 복잡해지며, 유연하지 못하다는 단점이 있다. <br> 위 코드는 크게 네 개의 조각으로 나눌 수 있는데, 우선 각 조각에서 하나씩 원소를 고른다. 이후 남은 원소들을 고르는 작업은 자기 자신을 호출하는 재귀 함수로 구현해 해결할 수 있다. 남은 원소들을 고르는 작업은 다음과 같은 입력들의 집합으로 정의할 수 있다. \n",
    "\n",
    "- 원소들의 총 개수\n",
    "- 더 골라야 할 원소들의 개수\n",
    "- 지금까지 고른 원소들의 번호\n",
    "\n",
    "아래 코드 예시를 통해 위 작업을 수행하는 재귀 함수를 작성해 보자. "
   ]
  },
  {
   "cell_type": "code",
   "execution_count": 7,
   "metadata": {},
   "outputs": [],
   "source": [
    "# n개의 원소 중 m개를 고르는 모든 조합을 찾는 알고리즘\n",
    "def pick(n, picked, toPick):\n",
    "    '''\n",
    "    - n : 전체 원소의 개수\n",
    "    - picked : 지금까지 고른 원소들의 번호\n",
    "    - toPick : 더 고를 원소의 수\n",
    "    위와 같을 때, 앞으로 toPick개의 원소를 고르는 모든 방법을 출력한다. \n",
    "    '''\n",
    "    \n",
    "    # 기저 사례 : 더 고를 원소가 없을 때 고른 원소들 출력하기\n",
    "    if toPick == 0:\n",
    "        return print(picked)\n",
    "            \n",
    "    # 고를 수 있는 가장 작은 번호 계산\n",
    "    smallest = 0 if len(picked)==0 else picked[-1]+1\n",
    "    \n",
    "    # 원소 하나를 고름\n",
    "    for next_idx in range(smallest, n):\n",
    "        picked.append(next_idx)\n",
    "        pick(n, picked, toPick-1)\n",
    "        picked.pop()"
   ]
  },
  {
   "cell_type": "code",
   "execution_count": 8,
   "metadata": {
    "scrolled": true
   },
   "outputs": [
    {
     "name": "stdout",
     "output_type": "stream",
     "text": [
      "[0, 1, 2, 3]\n",
      "[0, 1, 2, 4]\n",
      "[0, 1, 2, 5]\n",
      "[0, 1, 2, 6]\n",
      "[0, 1, 3, 4]\n",
      "[0, 1, 3, 5]\n",
      "[0, 1, 3, 6]\n",
      "[0, 1, 4, 5]\n",
      "[0, 1, 4, 6]\n",
      "[0, 1, 5, 6]\n",
      "[0, 2, 3, 4]\n",
      "[0, 2, 3, 5]\n",
      "[0, 2, 3, 6]\n",
      "[0, 2, 4, 5]\n",
      "[0, 2, 4, 6]\n",
      "[0, 2, 5, 6]\n",
      "[0, 3, 4, 5]\n",
      "[0, 3, 4, 6]\n",
      "[0, 3, 5, 6]\n",
      "[0, 4, 5, 6]\n",
      "[1, 2, 3, 4]\n",
      "[1, 2, 3, 5]\n",
      "[1, 2, 3, 6]\n",
      "[1, 2, 4, 5]\n",
      "[1, 2, 4, 6]\n",
      "[1, 2, 5, 6]\n",
      "[1, 3, 4, 5]\n",
      "[1, 3, 4, 6]\n",
      "[1, 3, 5, 6]\n",
      "[1, 4, 5, 6]\n",
      "[2, 3, 4, 5]\n",
      "[2, 3, 4, 6]\n",
      "[2, 3, 5, 6]\n",
      "[2, 4, 5, 6]\n",
      "[3, 4, 5, 6]\n"
     ]
    }
   ],
   "source": [
    "result = list()\n",
    "pick(7, result, 4)"
   ]
  },
  {
   "cell_type": "markdown",
   "metadata": {},
   "source": [
    "위 코드는 텅 빈 리스트에서 시작해 매 단계마다 하나의 원소를 추가하는 일을 반복하다가 하나의 답을 만든 후엔 이전으로 돌아가 다른 원소를 추가하는 식으로 모든 경우의 수를 생성한다. 이전에서 사용했던 중첩 for문과 달리 n개의 원소 중 몇 개(m)를 선택하던지 유연하게 사용할 수 있다는 장점이 있다."
   ]
  },
  {
   "cell_type": "markdown",
   "metadata": {},
   "source": [
    "#### Note : 파이썬의 삼항 연산자\n",
    "C언어의 삼항 연산자는 `result = (a > b) ? a : b`와 같이 조건이 `True`이면 value1(`a`)을 반환하고, `False`이면 value2(`b`)를 반환한다. <br>\n",
    "파이썬은 C언어와는 다르게 `a if a > b else b`와 같이 조건이 `True`이면 value1(`a`)를 반환하고, `False`이면 value2(`b`)를 반환한다. 리스트와 튜플 내부에서도 아래와 같이 삼항 연산자를 사용할 수 있다. (단, `for`문 뒤에 `if`문을 사용하는 것은 `SyntaxError`가 발생하며, `for`문 앞에 if문을 사용하는 경우는 `else`문을 사용해주지 않으면 마찬가지로 `SyntaxError`가 발생한다.)"
   ]
  },
  {
   "cell_type": "code",
   "execution_count": 9,
   "metadata": {},
   "outputs": [
    {
     "name": "stdout",
     "output_type": "stream",
     "text": [
      "[2, 4, 6, 8, 10]\n"
     ]
    },
    {
     "data": {
      "text/plain": [
       "[0, 2, 0, 4, 0, 6, 0, 8, 0, 10]"
      ]
     },
     "execution_count": 9,
     "metadata": {},
     "output_type": "execute_result"
    }
   ],
   "source": [
    "# 리스트에서 삼항 연산자 사용하기 1 (for문 뒤에 if문 사용하기)\n",
    "print([i for i in range(1,11) if i%2==0])\n",
    "\n",
    "# 리스트에서 삼항 연산자 사용하기 2 (for문 앞에 if문 사용하기)\n",
    "[i if i%2==0 else 0 for i in range(1,11)]"
   ]
  },
  {
   "cell_type": "code",
   "execution_count": null,
   "metadata": {},
   "outputs": [],
   "source": []
  }
 ],
 "metadata": {
  "kernelspec": {
   "display_name": "Python 3",
   "language": "python",
   "name": "python3"
  },
  "language_info": {
   "codemirror_mode": {
    "name": "ipython",
    "version": 3
   },
   "file_extension": ".py",
   "mimetype": "text/x-python",
   "name": "python",
   "nbconvert_exporter": "python",
   "pygments_lexer": "ipython3",
   "version": "3.7.3"
  }
 },
 "nbformat": 4,
 "nbformat_minor": 2
}
