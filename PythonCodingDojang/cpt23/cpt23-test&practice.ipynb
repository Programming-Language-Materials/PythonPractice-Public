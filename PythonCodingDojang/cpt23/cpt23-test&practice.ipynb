{
 "cells": [
  {
   "cell_type": "code",
   "execution_count": null,
   "metadata": {},
   "outputs": [],
   "source": [
    "# 배열구조 알아보기 쉽게 출력하기\n",
    "from pprint import pprint\n",
    "\n",
    "a = [[1, 2], [3, 4], [5, 6]]\n",
    "b = [[[1, 1], [2, 2]], [[3, 3], [4, 4]], [[5, 5], [6, 6]]]\n",
    "pprint(a, indent=0, width=20)\n",
    "pprint(b, indent=0, width=20)"
   ]
  },
  {
   "cell_type": "code",
   "execution_count": null,
   "metadata": {},
   "outputs": [],
   "source": [
    "# 반복문으로 2차원 리스트의 요소를 모두 출력하기\n",
    "a = [[1, 2], [3, 4], [5, 6]]\n",
    "for x, y in a:\n",
    "    print(x, y)"
   ]
  },
  {
   "cell_type": "code",
   "execution_count": null,
   "metadata": {},
   "outputs": [],
   "source": [
    "# for 반복문을 두 번 사용해서 2차원 리스트의 요소 출력하기\n",
    "a = [[1, 2], [3, 4], [5, 6]]\n",
    "for i in a:\n",
    "    for j in i:\n",
    "        print(j, end=' ')"
   ]
  },
  {
   "cell_type": "code",
   "execution_count": null,
   "metadata": {},
   "outputs": [],
   "source": [
    "# 리스트 표현식으로 2차원 리스트 만들기\n",
    "a = [[0 for j in range(2)] for i in range(3)]\n",
    "pprint(a, indent=0,width=20)\n",
    "\n",
    "b = [0] * 2\n",
    "pprint(b, width=20)\n",
    "\n",
    "c = [[0] * 2 for i in range(3)]\n",
    "pprint(c, indent=0, width=20)"
   ]
  },
  {
   "cell_type": "markdown",
   "metadata": {},
   "source": [
    "### 심사문제 : 지뢰찾기\n",
    "표준 입력으로 2차원 리스트의 가로(col)와 세로(row)가 입력되고 그 다음 줄부터 리스트의 요소로 들어갈 문자가 입력됩니다. 이때 2차원 리스트 안에서 `*`는 지뢰이고 `.`은 지뢰가 아닙니다. 지뢰가 아닌 요소에는 인접한 지뢰의 갯수를 출력하는 프로그램을 만드세요. (Input에서 안내 문자열은 출력하지 않아야 합니다>)\n",
    "\n",
    "여러 줄을 입력받으려면 다음과 같이 for 반복문에서 input을 호출한 뒤 append로 각 줄을 추가하면 됩니다. (list 안에 문자열을 넣으면 문자열이 문자 리스트로 변환됩니다.)\n",
    "\n",
    "```\n",
    "matrix = []\n",
    "for i in range(row):\n",
    "    matrix.append(list(input()))\n",
    "```"
   ]
  },
  {
   "cell_type": "code",
   "execution_count": 1,
   "metadata": {},
   "outputs": [
    {
     "name": "stdout",
     "output_type": "stream",
     "text": [
      "3 3\n",
      ".**\n",
      "*..\n",
      ".*.\n",
      "[['.', '*', '*'],\n",
      "['*', '.', '.'],\n",
      "['.', '*', '.']]\n"
     ]
    }
   ],
   "source": [
    "from pprint import pprint\n",
    "matrix = []\n",
    "\n",
    "col, row = map(int, input().split(' '))\n",
    "\n",
    "for i in range(row):\n",
    "    matrix.append(list(input()))\n",
    "pprint(matrix, indent=0, width=20)"
   ]
  },
  {
   "cell_type": "code",
   "execution_count": 6,
   "metadata": {},
   "outputs": [
    {
     "name": "stdout",
     "output_type": "stream",
     "text": [
      "['2', '*', '*', '*', '3', '3', '2', '*', '0']\n"
     ]
    }
   ],
   "source": [
    "mine = []\n",
    "nearMineCnt=0\n",
    "\n",
    "def slice_per(source, step):\n",
    "    return [source[i::step] for i in range(step)]\n",
    "\n",
    "for r in range(row):\n",
    "    for c in range(col):\n",
    "        \n",
    "        \n",
    "        if matrix[r][c] == '*':\n",
    "            mine.append('*')\n",
    "        else:\n",
    "            if r-1>=0 and c-1>=0 and matrix[r-1][c-1] == '*':\n",
    "                nearMineCnt += 1\n",
    "            if r-1>=0 and matrix[r-1][c] == '*':\n",
    "                nearMineCnt += 1\n",
    "            if r-1>=0 and c+1<row and matrix[r-1][c+1] == '*':\n",
    "                nearMineCnt += 1\n",
    "            if c+1<row and matrix[r][c+1] == '*':\n",
    "                nearMineCnt += 1\n",
    "            if r+1<col and c+1<row and matrix[r+1][c+1] == '*':\n",
    "                nearMineCnt += 1\n",
    "            if r+1<col and matrix[r+1][c] == '*':\n",
    "                nearMineCnt += 1\n",
    "            if r+1<col and c-1>=0 and matrix[r+1][c-1] == '*':\n",
    "                nearMineCnt += 1 \n",
    "                \n",
    "            mine.append(str(nearMineCnt))\n",
    "            nearMineCnt = 0\n",
    "print(mine)"
   ]
  },
  {
   "cell_type": "code",
   "execution_count": null,
   "metadata": {},
   "outputs": [],
   "source": []
  }
 ],
 "metadata": {
  "kernelspec": {
   "display_name": "Python 3",
   "language": "python",
   "name": "python3"
  },
  "language_info": {
   "codemirror_mode": {
    "name": "ipython",
    "version": 3
   },
   "file_extension": ".py",
   "mimetype": "text/x-python",
   "name": "python",
   "nbconvert_exporter": "python",
   "pygments_lexer": "ipython3",
   "version": "3.7.1"
  }
 },
 "nbformat": 4,
 "nbformat_minor": 2
}
