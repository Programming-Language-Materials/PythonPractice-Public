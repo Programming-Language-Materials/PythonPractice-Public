{
 "cells": [
  {
   "cell_type": "code",
   "execution_count": 2,
   "metadata": {},
   "outputs": [
    {
     "name": "stdout",
     "output_type": "stream",
     "text": [
      "[2013, 2014, 2015]\n",
      "[645465, 646578, 98796]\n"
     ]
    }
   ],
   "source": [
    "# 11.6 연습문제 1 : 최근 3년간 인구 출력하기\n",
    "year = [2011, 2012, 2013, 2014, 2015]\n",
    "polulation = [10249676, 798464, 645465, 646578, 98796]\n",
    "\n",
    "print(year[-3:])\n",
    "print(polulation[-3:])"
   ]
  },
  {
   "cell_type": "code",
   "execution_count": 6,
   "metadata": {},
   "outputs": [
    {
     "name": "stdout",
     "output_type": "stream",
     "text": [
      "(75, -10, 32, -15, 76, 2)\n",
      "(75, -10, 32, -15, 76, 2)\n",
      "(75, -10, 32, -15, 76, 2)\n"
     ]
    }
   ],
   "source": [
    "# 11.7 연습문제 2: 인덱스가 홀수인 요소 출력하기\n",
    "n = -32, 75, 97, -10, 9, 32, 4, -15, 0, 76, 14, 2\n",
    "print(n[1::2])\n",
    "print(n[1:12:2])\n",
    "print(n[1:len(n):2])"
   ]
  },
  {
   "cell_type": "code",
   "execution_count": 6,
   "metadata": {},
   "outputs": [
    {
     "name": "stdout",
     "output_type": "stream",
     "text": [
      "oven bat pony total leak wreck curl crop space navy loss knee\n",
      "current list :  ['oven', 'bat', 'pony', 'total', 'leak', 'wreck', 'curl', 'crop', 'space', 'navy', 'loss', 'knee']\n",
      "list after del :  ['oven', 'bat', 'pony', 'total', 'leak', 'wreck', 'curl']\n"
     ]
    }
   ],
   "source": [
    "# 11.8 심사문제 : 리스트의 마지막 부분 삭제하기\n",
    "x = input().split()\n",
    "print('current list : ', x)\n",
    "del x[-5:]\n",
    "print('list after del : ', x)"
   ]
  },
  {
   "cell_type": "code",
   "execution_count": 9,
   "metadata": {},
   "outputs": [
    {
     "name": "stdout",
     "output_type": "stream",
     "text": [
      "python\n",
      "python\n",
      "yhnpto\n"
     ]
    }
   ],
   "source": [
    "# 11.9 심사문제 2 : 문자열에서 인덱스가 홀수인 문자와 짝수인 문자 연결하기\n",
    "a = input()\n",
    "b = input()\n",
    "print(a[1::2]+b[0::2])"
   ]
  },
  {
   "cell_type": "code",
   "execution_count": null,
   "metadata": {},
   "outputs": [],
   "source": []
  }
 ],
 "metadata": {
  "kernelspec": {
   "display_name": "Python 3",
   "language": "python",
   "name": "python3"
  },
  "language_info": {
   "codemirror_mode": {
    "name": "ipython",
    "version": 3
   },
   "file_extension": ".py",
   "mimetype": "text/x-python",
   "name": "python",
   "nbconvert_exporter": "python",
   "pygments_lexer": "ipython3",
   "version": "3.7.1"
  }
 },
 "nbformat": 4,
 "nbformat_minor": 2
}
