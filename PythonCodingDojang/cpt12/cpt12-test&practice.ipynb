{
 "cells": [
  {
   "cell_type": "code",
   "execution_count": 13,
   "metadata": {},
   "outputs": [
    {
     "name": "stdout",
     "output_type": "stream",
     "text": [
      "health health_regen mana mana_regen\n",
      "575.6 1.7 338.8 1.63\n",
      "{'health': 575.6, 'health_regen': 1.7, 'mana': 338.8, 'mana_regen': 1.63}\n"
     ]
    }
   ],
   "source": [
    "# 12.5 심사문제 : 딕셔너리에 게임 캐릭터 능력치 저장하기\n",
    "stat_name = input().split()\n",
    "stat_value = map(float, input().split())\n",
    "print(dict(list(zip(stat_name, stat_value))))"
   ]
  },
  {
   "cell_type": "code",
   "execution_count": null,
   "metadata": {},
   "outputs": [],
   "source": []
  }
 ],
 "metadata": {
  "kernelspec": {
   "display_name": "Python 3",
   "language": "python",
   "name": "python3"
  },
  "language_info": {
   "codemirror_mode": {
    "name": "ipython",
    "version": 3
   },
   "file_extension": ".py",
   "mimetype": "text/x-python",
   "name": "python",
   "nbconvert_exporter": "python",
   "pygments_lexer": "ipython3",
   "version": "3.7.1"
  }
 },
 "nbformat": 4,
 "nbformat_minor": 2
}
