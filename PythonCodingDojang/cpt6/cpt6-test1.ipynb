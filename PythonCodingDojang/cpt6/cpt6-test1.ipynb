{
 "cells": [
  {
   "cell_type": "code",
   "execution_count": 5,
   "metadata": {},
   "outputs": [
    {
     "name": "stdout",
     "output_type": "stream",
     "text": [
      "첫 번째 숫자를 입력하세요 : 3\n",
      "두 번째 숫자를 입력하세요 : 4\n",
      "두 숫자의 합 :  7\n"
     ]
    }
   ],
   "source": [
    "# 두 숫자의 합 구하기 - 따로따로 입력\n",
    "a = int(input('첫 번째 숫자를 입력하세요 : '))\n",
    "b = int(input('두 번째 숫자를 입력하세요 : '))\n",
    "\n",
    "print('두 숫자의 합 : ', a+b)"
   ]
  },
  {
   "cell_type": "code",
   "execution_count": 11,
   "metadata": {},
   "outputs": [
    {
     "name": "stdout",
     "output_type": "stream",
     "text": [
      "숫자 두 개를 입력하세요 : 1 4\n",
      "두 숫자의 합 :  5\n"
     ]
    }
   ],
   "source": [
    "# 두 숫자의 합 구하기 - 동시에 입력(split)\n",
    "a, b = input('숫자 두 개를 입력하세요 : ').split()\n",
    "a=int(a)\n",
    "b=int(b)\n",
    "print('두 숫자의 합 : ', a+b)"
   ]
  },
  {
   "cell_type": "code",
   "execution_count": 13,
   "metadata": {},
   "outputs": [
    {
     "name": "stdout",
     "output_type": "stream",
     "text": [
      "숫자 두 개를 입력하세요 : 1 8\n",
      "두 숫자의 합 :  9\n"
     ]
    }
   ],
   "source": [
    "# 두 숫자의 합 구하기 - 동시에 입력(map)\n",
    "a, b = map(int, input('숫자 두 개를 입력하세요 : ').split())\n",
    "print('두 숫자의 합 : ', a+b)"
   ]
  },
  {
   "cell_type": "code",
   "execution_count": 2,
   "metadata": {},
   "outputs": [
    {
     "name": "stdout",
     "output_type": "stream",
     "text": [
      "50\n",
      "100\n",
      "None\n"
     ]
    }
   ],
   "source": [
    "# 6.7 심사문제 : 변수 만들기\n",
    "a=50\n",
    "b=100\n",
    "c=None\n",
    "\n",
    "print(a)\n",
    "print(b)\n",
    "print(c)"
   ]
  },
  {
   "cell_type": "code",
   "execution_count": 15,
   "metadata": {},
   "outputs": [
    {
     "name": "stdout",
     "output_type": "stream",
     "text": [
      "83 92 87 90\n",
      "88.0\n"
     ]
    }
   ],
   "source": [
    "#### 6.8 심사문제 : 평균 점수 구하기\n",
    "a, b, c, d = map(int, input().split())\n",
    "print((a+b+c+d)/4)"
   ]
  },
  {
   "cell_type": "code",
   "execution_count": null,
   "metadata": {},
   "outputs": [],
   "source": []
  }
 ],
 "metadata": {
  "kernelspec": {
   "display_name": "Python 3",
   "language": "python",
   "name": "python3"
  },
  "language_info": {
   "codemirror_mode": {
    "name": "ipython",
    "version": 3
   },
   "file_extension": ".py",
   "mimetype": "text/x-python",
   "name": "python",
   "nbconvert_exporter": "python",
   "pygments_lexer": "ipython3",
   "version": "3.7.1"
  }
 },
 "nbformat": 4,
 "nbformat_minor": 2
}
