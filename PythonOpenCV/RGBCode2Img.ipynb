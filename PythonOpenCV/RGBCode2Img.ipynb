{
 "cells": [
  {
   "cell_type": "code",
   "execution_count": null,
   "metadata": {},
   "outputs": [],
   "source": [
    "# NSML Log로부터 불필요한 문자를 제거한 후 정제된 RGB 코드로부터 원본 이미지를 재생성하는 코드입니다. \n",
    "\n",
    "import cv2\n",
    "import numpy as np\n",
    "import os\n",
    "\n",
    "def txt2list(ImgCount, txtPath, output_Path):\n",
    "    with open(txtPath) as FileHandler:\n",
    "        txtList = FileHandler.readlines() # txt파일을 row 단위로 끊어 읽음\n",
    "        txtList = str([x.strip() for x in txtList]) # 공백 제거\n",
    "    for char in \"_():.[]''\": # \"\" 내의 특수문자 제거\n",
    "        txtList = txtList.replace(char, \"\")\n",
    "        txtList = txtList.replace(\",\", \"\")\n",
    "        txtList = txtList.replace(\"  \", \" \") # space가 2개인 경우를 1개로 줄임\n",
    "    newtxtList_int = [int(n) for n in txtList.split()] # int로 전부 형변환\n",
    "    EmptyNpArr = np.asarray(newtxtList_int) # List를 numpy arr로 변환\n",
    "    ImgNpArr = EmptyNpArr.flatten('F') # 확인차 한번 더 flatten\n",
    "    TempArr = ImgNpArr.reshape(224, 224, 3) # flatten된 arr를 224*224*3 numpy array로 reshape\n",
    "    b,g,r = cv2.split(TempArr) # b, g, r 채널로 split\n",
    "    rgb_img = cv2.merge([r,g,b]) # split된 채널을 r, g, b 순서로 merge\n",
    "    print(rgb_img) # 테스트용 print\n",
    "\n",
    "    # 이미지 출력\n",
    "    cv2.imwrite(output_Path + \"/\" + \"QueryImg\" + str(ImgCount) +\".jpg\", rgb_img)\n",
    "\n",
    "    # 테스트용 txt파일 작성\n",
    "    # file = open(\"testfile.txt\", \"w\")\n",
    "    # for i in range(len(txtList)):\n",
    "    #     file.write(txtList[i])\n",
    "    # file.close()\n",
    "\n",
    "if __name__ == '__main__':\n",
    "    TextMining_referenceImgs = \"./TextMining_referenceImgs\" # 레퍼런스 이미지의 row txt파일 경로\n",
    "    TextMining_queryImgs = \"./TextMining_queryImgs\" # 쿼리 이미지의 row txt파일 경로\n",
    "    referenceImgs_output_Path = \"./TextMiningResImgs_reference\" # 디코드된 레퍼런스 이미지가 저장되는 경로\n",
    "    queryImgs_output_Path = \"./TextMiningResImgs_query\" # 디코드된 쿼리 이미지가 저장되는 경로\n",
    "\n",
    "    txtfilePathList = os.listdir(TextMining_queryImgs) # 경로 내 모든 파일들의 디렉토리를 받아옴.\n",
    "    for ImgCount in range(len(txtfilePathList)):\n",
    "        txt2list(ImgCount, TextMining_queryImgs + \"/\" + txtfilePathList[ImgCount], queryImgs_output_Path)"
   ]
  }
 ],
 "metadata": {
  "kernelspec": {
   "display_name": "Python 3",
   "language": "python",
   "name": "python3"
  },
  "language_info": {
   "codemirror_mode": {
    "name": "ipython",
    "version": 3
   },
   "file_extension": ".py",
   "mimetype": "text/x-python",
   "name": "python",
   "nbconvert_exporter": "python",
   "pygments_lexer": "ipython3",
   "version": "3.7.4"
  }
 },
 "nbformat": 4,
 "nbformat_minor": 2
}
