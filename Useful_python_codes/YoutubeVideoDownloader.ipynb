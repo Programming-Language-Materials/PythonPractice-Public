{
 "cells": [
  {
   "cell_type": "markdown",
   "metadata": {},
   "source": [
    "## Download specific youtube video stream\n",
    "\n",
    "- Reference: https://blog.naver.com/PostView.nhn?blogId=skyshin0304&logNo=221620513883&proxyReferer=https:%2F%2Fwww.google.com%2F"
   ]
  },
  {
   "cell_type": "code",
   "execution_count": 1,
   "metadata": {},
   "outputs": [],
   "source": [
    "from pytube import YouTube\n",
    "import os, cv2, shutil, math, datetime, ast\n",
    "import matplotlib.pyplot as plt\n",
    "import pandas as pd\n",
    "\n",
    "%matplotlib inline"
   ]
  },
  {
   "cell_type": "code",
   "execution_count": 2,
   "metadata": {},
   "outputs": [
    {
     "name": "stdout",
     "output_type": "stream",
     "text": [
      "영상 제목 : [페이스캠4K] 트와이스 나연 'MORE & MORE' (TWICE NAYEON FaceCam)│@SBS Inkigayo_2020.6.7\n",
      "영상 길이 : 220\n",
      "영상 평점 : 4.9548316\n",
      "영상 썸네일 링크:  https://i.ytimg.com/vi/BEzzl8Ey3-k/maxresdefault.jpg\n",
      "영상 조회수 : 45852\n",
      "영상 설명 : [페이스캠4K] 트와이스 나연 'MORE & MORE' (TWICE NAYEON FaceCam)│@SBS Inkigayo_2020.6.7\n",
      "\n",
      "#인기가요 #TWICE #나연\n",
      "\n",
      "---------------------------------------------------------------------------------------------------\n",
      "\n",
      "☞ MORE ＂SBS KPOP PLAY＂\n",
      "\n",
      "- Twitter : https://twitter.com/kpop_sbs\n",
      "- Facebook : https://www.facebook.com/sbskpop/\n"
     ]
    }
   ],
   "source": [
    "video_url = 'https://www.youtube.com/watch?v=BEzzl8Ey3-k'\n",
    "yt = YouTube(video_url)\n",
    "print(\"영상 제목 :\", yt.title)\n",
    "print(\"영상 길이 :\", yt.length)\n",
    "print(\"영상 평점 :\", yt.rating)\n",
    "print(\"영상 썸네일 링크: \", yt.thumbnail_url)\n",
    "print(\"영상 조회수 :\", yt.views)\n",
    "print(\"영상 설명 :\", yt.description)"
   ]
  },
  {
   "cell_type": "code",
   "execution_count": 3,
   "metadata": {
    "scrolled": false
   },
   "outputs": [
    {
     "name": "stdout",
     "output_type": "stream",
     "text": [
      "다운가능한 영상 상세 정보 :\n",
      "0  :  <Stream: itag=\"18\" mime_type=\"video/mp4\" res=\"360p\" fps=\"30fps\" vcodec=\"avc1.42001E\" acodec=\"mp4a.40.2\" progressive=\"True\" type=\"video\">\n",
      "1  :  <Stream: itag=\"313\" mime_type=\"video/webm\" res=\"2160p\" fps=\"30fps\" vcodec=\"vp9\" progressive=\"False\" type=\"video\">\n",
      "2  :  <Stream: itag=\"271\" mime_type=\"video/webm\" res=\"1440p\" fps=\"30fps\" vcodec=\"vp9\" progressive=\"False\" type=\"video\">\n",
      "3  :  <Stream: itag=\"137\" mime_type=\"video/mp4\" res=\"1080p\" fps=\"30fps\" vcodec=\"avc1.640028\" progressive=\"False\" type=\"video\">\n",
      "4  :  <Stream: itag=\"248\" mime_type=\"video/webm\" res=\"1080p\" fps=\"30fps\" vcodec=\"vp9\" progressive=\"False\" type=\"video\">\n",
      "5  :  <Stream: itag=\"136\" mime_type=\"video/mp4\" res=\"720p\" fps=\"30fps\" vcodec=\"avc1.4d401f\" progressive=\"False\" type=\"video\">\n",
      "6  :  <Stream: itag=\"247\" mime_type=\"video/webm\" res=\"720p\" fps=\"30fps\" vcodec=\"vp9\" progressive=\"False\" type=\"video\">\n",
      "7  :  <Stream: itag=\"135\" mime_type=\"video/mp4\" res=\"480p\" fps=\"30fps\" vcodec=\"avc1.4d401f\" progressive=\"False\" type=\"video\">\n",
      "8  :  <Stream: itag=\"244\" mime_type=\"video/webm\" res=\"480p\" fps=\"30fps\" vcodec=\"vp9\" progressive=\"False\" type=\"video\">\n",
      "9  :  <Stream: itag=\"134\" mime_type=\"video/mp4\" res=\"360p\" fps=\"30fps\" vcodec=\"avc1.4d401e\" progressive=\"False\" type=\"video\">\n",
      "10  :  <Stream: itag=\"243\" mime_type=\"video/webm\" res=\"360p\" fps=\"30fps\" vcodec=\"vp9\" progressive=\"False\" type=\"video\">\n",
      "11  :  <Stream: itag=\"133\" mime_type=\"video/mp4\" res=\"240p\" fps=\"30fps\" vcodec=\"avc1.4d4015\" progressive=\"False\" type=\"video\">\n",
      "12  :  <Stream: itag=\"242\" mime_type=\"video/webm\" res=\"240p\" fps=\"30fps\" vcodec=\"vp9\" progressive=\"False\" type=\"video\">\n",
      "13  :  <Stream: itag=\"160\" mime_type=\"video/mp4\" res=\"144p\" fps=\"30fps\" vcodec=\"avc1.4d400c\" progressive=\"False\" type=\"video\">\n",
      "14  :  <Stream: itag=\"278\" mime_type=\"video/webm\" res=\"144p\" fps=\"30fps\" vcodec=\"vp9\" progressive=\"False\" type=\"video\">\n",
      "15  :  <Stream: itag=\"140\" mime_type=\"audio/mp4\" abr=\"128kbps\" acodec=\"mp4a.40.2\" progressive=\"False\" type=\"audio\">\n",
      "16  :  <Stream: itag=\"249\" mime_type=\"audio/webm\" abr=\"50kbps\" acodec=\"opus\" progressive=\"False\" type=\"audio\">\n",
      "17  :  <Stream: itag=\"250\" mime_type=\"audio/webm\" abr=\"70kbps\" acodec=\"opus\" progressive=\"False\" type=\"audio\">\n",
      "18  :  <Stream: itag=\"251\" mime_type=\"audio/webm\" abr=\"160kbps\" acodec=\"opus\" progressive=\"False\" type=\"audio\">\n"
     ]
    },
    {
     "name": "stderr",
     "output_type": "stream",
     "text": [
      "C:\\ProgramData\\Anaconda3\\lib\\site-packages\\ipykernel_launcher.py:3: DeprecationWarning: Call to deprecated function all (This object can be treated as a list, all() is useless).\n",
      "  This is separate from the ipykernel package so we can avoid doing imports until\n"
     ]
    }
   ],
   "source": [
    "yt_streams = yt.streams\n",
    "print(\"다운가능한 영상 상세 정보 :\")\n",
    "for i, stream in enumerate(yt_streams.all()):\n",
    "    print(i, \" : \", stream)"
   ]
  },
  {
   "cell_type": "code",
   "execution_count": 4,
   "metadata": {},
   "outputs": [
    {
     "data": {
      "text/plain": [
       "'BEzzl8Ey3-k'"
      ]
     },
     "execution_count": 4,
     "metadata": {},
     "output_type": "execute_result"
    }
   ],
   "source": [
    "video_url.split('/')[-1].split('=')[-1]"
   ]
  },
  {
   "cell_type": "markdown",
   "metadata": {},
   "source": [
    "Build dataframe and sort by `res`(resolution) to get highest resolution video."
   ]
  },
  {
   "cell_type": "code",
   "execution_count": 5,
   "metadata": {},
   "outputs": [
    {
     "name": "stderr",
     "output_type": "stream",
     "text": [
      "C:\\ProgramData\\Anaconda3\\lib\\site-packages\\ipykernel_launcher.py:3: DeprecationWarning: Call to deprecated function all (This object can be treated as a list, all() is useless).\n",
      "  This is separate from the ipykernel package so we can avoid doing imports until\n",
      "C:\\ProgramData\\Anaconda3\\lib\\site-packages\\ipykernel_launcher.py:11: FutureWarning: Sorting because non-concatenation axis is not aligned. A future version\n",
      "of pandas will change to not sort by default.\n",
      "\n",
      "To accept the future behavior, pass 'sort=False'.\n",
      "\n",
      "To retain the current behavior and silence the warning, pass 'sort=True'.\n",
      "\n",
      "  # This is added back by InteractiveShellApp.init_path()\n"
     ]
    },
    {
     "data": {
      "text/html": [
       "<div>\n",
       "<style scoped>\n",
       "    .dataframe tbody tr th:only-of-type {\n",
       "        vertical-align: middle;\n",
       "    }\n",
       "\n",
       "    .dataframe tbody tr th {\n",
       "        vertical-align: top;\n",
       "    }\n",
       "\n",
       "    .dataframe thead th {\n",
       "        text-align: right;\n",
       "    }\n",
       "</style>\n",
       "<table border=\"1\" class=\"dataframe\">\n",
       "  <thead>\n",
       "    <tr style=\"text-align: right;\">\n",
       "      <th></th>\n",
       "      <th>abr</th>\n",
       "      <th>acodec</th>\n",
       "      <th>fps</th>\n",
       "      <th>itag</th>\n",
       "      <th>mime_type</th>\n",
       "      <th>progressive</th>\n",
       "      <th>res</th>\n",
       "      <th>type</th>\n",
       "      <th>vcodec</th>\n",
       "    </tr>\n",
       "    <tr>\n",
       "      <th>videoID</th>\n",
       "      <th></th>\n",
       "      <th></th>\n",
       "      <th></th>\n",
       "      <th></th>\n",
       "      <th></th>\n",
       "      <th></th>\n",
       "      <th></th>\n",
       "      <th></th>\n",
       "      <th></th>\n",
       "    </tr>\n",
       "  </thead>\n",
       "  <tbody>\n",
       "    <tr>\n",
       "      <th>BEzzl8Ey3-k</th>\n",
       "      <td>NaN</td>\n",
       "      <td>NaN</td>\n",
       "      <td>30fps</td>\n",
       "      <td>313</td>\n",
       "      <td>video/webm</td>\n",
       "      <td>False</td>\n",
       "      <td>2160</td>\n",
       "      <td>video</td>\n",
       "      <td>vp9</td>\n",
       "    </tr>\n",
       "    <tr>\n",
       "      <th>BEzzl8Ey3-k</th>\n",
       "      <td>NaN</td>\n",
       "      <td>NaN</td>\n",
       "      <td>30fps</td>\n",
       "      <td>271</td>\n",
       "      <td>video/webm</td>\n",
       "      <td>False</td>\n",
       "      <td>1440</td>\n",
       "      <td>video</td>\n",
       "      <td>vp9</td>\n",
       "    </tr>\n",
       "    <tr>\n",
       "      <th>BEzzl8Ey3-k</th>\n",
       "      <td>NaN</td>\n",
       "      <td>NaN</td>\n",
       "      <td>30fps</td>\n",
       "      <td>137</td>\n",
       "      <td>video/mp4</td>\n",
       "      <td>False</td>\n",
       "      <td>1080</td>\n",
       "      <td>video</td>\n",
       "      <td>avc1.640028</td>\n",
       "    </tr>\n",
       "    <tr>\n",
       "      <th>BEzzl8Ey3-k</th>\n",
       "      <td>NaN</td>\n",
       "      <td>NaN</td>\n",
       "      <td>30fps</td>\n",
       "      <td>248</td>\n",
       "      <td>video/webm</td>\n",
       "      <td>False</td>\n",
       "      <td>1080</td>\n",
       "      <td>video</td>\n",
       "      <td>vp9</td>\n",
       "    </tr>\n",
       "    <tr>\n",
       "      <th>BEzzl8Ey3-k</th>\n",
       "      <td>NaN</td>\n",
       "      <td>NaN</td>\n",
       "      <td>30fps</td>\n",
       "      <td>136</td>\n",
       "      <td>video/mp4</td>\n",
       "      <td>False</td>\n",
       "      <td>720</td>\n",
       "      <td>video</td>\n",
       "      <td>avc1.4d401f</td>\n",
       "    </tr>\n",
       "    <tr>\n",
       "      <th>BEzzl8Ey3-k</th>\n",
       "      <td>NaN</td>\n",
       "      <td>NaN</td>\n",
       "      <td>30fps</td>\n",
       "      <td>247</td>\n",
       "      <td>video/webm</td>\n",
       "      <td>False</td>\n",
       "      <td>720</td>\n",
       "      <td>video</td>\n",
       "      <td>vp9</td>\n",
       "    </tr>\n",
       "    <tr>\n",
       "      <th>BEzzl8Ey3-k</th>\n",
       "      <td>NaN</td>\n",
       "      <td>NaN</td>\n",
       "      <td>30fps</td>\n",
       "      <td>135</td>\n",
       "      <td>video/mp4</td>\n",
       "      <td>False</td>\n",
       "      <td>480</td>\n",
       "      <td>video</td>\n",
       "      <td>avc1.4d401f</td>\n",
       "    </tr>\n",
       "    <tr>\n",
       "      <th>BEzzl8Ey3-k</th>\n",
       "      <td>NaN</td>\n",
       "      <td>NaN</td>\n",
       "      <td>30fps</td>\n",
       "      <td>244</td>\n",
       "      <td>video/webm</td>\n",
       "      <td>False</td>\n",
       "      <td>480</td>\n",
       "      <td>video</td>\n",
       "      <td>vp9</td>\n",
       "    </tr>\n",
       "    <tr>\n",
       "      <th>BEzzl8Ey3-k</th>\n",
       "      <td>NaN</td>\n",
       "      <td>mp4a.40.2</td>\n",
       "      <td>30fps</td>\n",
       "      <td>18</td>\n",
       "      <td>video/mp4</td>\n",
       "      <td>True</td>\n",
       "      <td>360</td>\n",
       "      <td>video</td>\n",
       "      <td>avc1.42001E</td>\n",
       "    </tr>\n",
       "    <tr>\n",
       "      <th>BEzzl8Ey3-k</th>\n",
       "      <td>NaN</td>\n",
       "      <td>NaN</td>\n",
       "      <td>30fps</td>\n",
       "      <td>134</td>\n",
       "      <td>video/mp4</td>\n",
       "      <td>False</td>\n",
       "      <td>360</td>\n",
       "      <td>video</td>\n",
       "      <td>avc1.4d401e</td>\n",
       "    </tr>\n",
       "    <tr>\n",
       "      <th>BEzzl8Ey3-k</th>\n",
       "      <td>NaN</td>\n",
       "      <td>NaN</td>\n",
       "      <td>30fps</td>\n",
       "      <td>243</td>\n",
       "      <td>video/webm</td>\n",
       "      <td>False</td>\n",
       "      <td>360</td>\n",
       "      <td>video</td>\n",
       "      <td>vp9</td>\n",
       "    </tr>\n",
       "    <tr>\n",
       "      <th>BEzzl8Ey3-k</th>\n",
       "      <td>NaN</td>\n",
       "      <td>NaN</td>\n",
       "      <td>30fps</td>\n",
       "      <td>133</td>\n",
       "      <td>video/mp4</td>\n",
       "      <td>False</td>\n",
       "      <td>240</td>\n",
       "      <td>video</td>\n",
       "      <td>avc1.4d4015</td>\n",
       "    </tr>\n",
       "    <tr>\n",
       "      <th>BEzzl8Ey3-k</th>\n",
       "      <td>NaN</td>\n",
       "      <td>NaN</td>\n",
       "      <td>30fps</td>\n",
       "      <td>242</td>\n",
       "      <td>video/webm</td>\n",
       "      <td>False</td>\n",
       "      <td>240</td>\n",
       "      <td>video</td>\n",
       "      <td>vp9</td>\n",
       "    </tr>\n",
       "    <tr>\n",
       "      <th>BEzzl8Ey3-k</th>\n",
       "      <td>NaN</td>\n",
       "      <td>NaN</td>\n",
       "      <td>30fps</td>\n",
       "      <td>160</td>\n",
       "      <td>video/mp4</td>\n",
       "      <td>False</td>\n",
       "      <td>144</td>\n",
       "      <td>video</td>\n",
       "      <td>avc1.4d400c</td>\n",
       "    </tr>\n",
       "    <tr>\n",
       "      <th>BEzzl8Ey3-k</th>\n",
       "      <td>NaN</td>\n",
       "      <td>NaN</td>\n",
       "      <td>30fps</td>\n",
       "      <td>278</td>\n",
       "      <td>video/webm</td>\n",
       "      <td>False</td>\n",
       "      <td>144</td>\n",
       "      <td>video</td>\n",
       "      <td>vp9</td>\n",
       "    </tr>\n",
       "  </tbody>\n",
       "</table>\n",
       "</div>"
      ],
      "text/plain": [
       "             abr     acodec    fps  itag   mime_type progressive   res   type  \\\n",
       "videoID                                                                         \n",
       "BEzzl8Ey3-k  NaN        NaN  30fps   313  video/webm       False  2160  video   \n",
       "BEzzl8Ey3-k  NaN        NaN  30fps   271  video/webm       False  1440  video   \n",
       "BEzzl8Ey3-k  NaN        NaN  30fps   137   video/mp4       False  1080  video   \n",
       "BEzzl8Ey3-k  NaN        NaN  30fps   248  video/webm       False  1080  video   \n",
       "BEzzl8Ey3-k  NaN        NaN  30fps   136   video/mp4       False   720  video   \n",
       "BEzzl8Ey3-k  NaN        NaN  30fps   247  video/webm       False   720  video   \n",
       "BEzzl8Ey3-k  NaN        NaN  30fps   135   video/mp4       False   480  video   \n",
       "BEzzl8Ey3-k  NaN        NaN  30fps   244  video/webm       False   480  video   \n",
       "BEzzl8Ey3-k  NaN  mp4a.40.2  30fps    18   video/mp4        True   360  video   \n",
       "BEzzl8Ey3-k  NaN        NaN  30fps   134   video/mp4       False   360  video   \n",
       "BEzzl8Ey3-k  NaN        NaN  30fps   243  video/webm       False   360  video   \n",
       "BEzzl8Ey3-k  NaN        NaN  30fps   133   video/mp4       False   240  video   \n",
       "BEzzl8Ey3-k  NaN        NaN  30fps   242  video/webm       False   240  video   \n",
       "BEzzl8Ey3-k  NaN        NaN  30fps   160   video/mp4       False   144  video   \n",
       "BEzzl8Ey3-k  NaN        NaN  30fps   278  video/webm       False   144  video   \n",
       "\n",
       "                  vcodec  \n",
       "videoID                   \n",
       "BEzzl8Ey3-k          vp9  \n",
       "BEzzl8Ey3-k          vp9  \n",
       "BEzzl8Ey3-k  avc1.640028  \n",
       "BEzzl8Ey3-k          vp9  \n",
       "BEzzl8Ey3-k  avc1.4d401f  \n",
       "BEzzl8Ey3-k          vp9  \n",
       "BEzzl8Ey3-k  avc1.4d401f  \n",
       "BEzzl8Ey3-k          vp9  \n",
       "BEzzl8Ey3-k  avc1.42001E  \n",
       "BEzzl8Ey3-k  avc1.4d401e  \n",
       "BEzzl8Ey3-k          vp9  \n",
       "BEzzl8Ey3-k  avc1.4d4015  \n",
       "BEzzl8Ey3-k          vp9  \n",
       "BEzzl8Ey3-k  avc1.4d400c  \n",
       "BEzzl8Ey3-k          vp9  "
      ]
     },
     "execution_count": 5,
     "metadata": {},
     "output_type": "execute_result"
    }
   ],
   "source": [
    "stream_df_list = []\n",
    "\n",
    "for stream in yt_streams.all():\n",
    "    stream_dict = dict()\n",
    "    stream_str = str(stream)\n",
    "    stream_elements = stream_str.replace('Stream: ', '').replace('=', ':').replace('<', '').replace('>', '').replace('\"', '').split(' ')\n",
    "    for elemnt in stream_elements:\n",
    "        stream_dict[elemnt.split(':')[0]] = elemnt.split(':')[-1]\n",
    "    stream_df_list.append(pd.DataFrame.from_dict(stream_dict, orient='index').T)\n",
    "        \n",
    "stream_df_global = pd.concat(stream_df_list)\n",
    "stream_df_global['videoID'] = str(video_url.split('/')[-1].split('=')[-1])\n",
    "stream_df_global.set_index('videoID', inplace = True)\n",
    "stream_df_global = stream_df_global[pd.notnull(stream_df_global['res'])]\n",
    "stream_df_global['res'] = stream_df_global['res'].str.replace(pat=r'[A-Za-z]', repl= r'', regex=True)\n",
    "stream_df_global = stream_df_global.astype({'itag': int, 'res': int})\n",
    "stream_df_global = stream_df_global.sort_values(by='res', ascending=False)\n",
    "stream_df_global"
   ]
  },
  {
   "cell_type": "code",
   "execution_count": 6,
   "metadata": {},
   "outputs": [
    {
     "name": "stdout",
     "output_type": "stream",
     "text": [
      "\"itag\"를 이용해 가장 높은 해상도의 Video Download :\n",
      "선택된 stream:  <Stream: itag=\"313\" mime_type=\"video/webm\" res=\"2160p\" fps=\"30fps\" vcodec=\"vp9\" progressive=\"False\" type=\"video\">\n"
     ]
    }
   ],
   "source": [
    "print(\"\\\"itag\\\"를 이용해 가장 높은 해상도의 Video Download :\")\n",
    "\n",
    "my_stream = yt_streams.get_by_itag(stream_df_global.iloc[0]['itag'])\n",
    "print(\"선택된 stream: \", my_stream)"
   ]
  },
  {
   "cell_type": "code",
   "execution_count": 7,
   "metadata": {},
   "outputs": [
    {
     "name": "stdout",
     "output_type": "stream",
     "text": [
      "선택된 stream 다운로드 \n"
     ]
    },
    {
     "data": {
      "text/plain": [
       "'C:/Users/MGL/Desktop/BEzzl8Ey3-k.webm'"
      ]
     },
     "execution_count": 7,
     "metadata": {},
     "output_type": "execute_result"
    }
   ],
   "source": [
    "print(\"선택된 stream 다운로드 \")\n",
    "my_stream.download(output_path='C:/Users/MGL/Desktop/', filename=stream_df_global.index[0])"
   ]
  },
  {
   "cell_type": "code",
   "execution_count": null,
   "metadata": {},
   "outputs": [],
   "source": []
  }
 ],
 "metadata": {
  "kernelspec": {
   "display_name": "Python 3",
   "language": "python",
   "name": "python3"
  },
  "language_info": {
   "codemirror_mode": {
    "name": "ipython",
    "version": 3
   },
   "file_extension": ".py",
   "mimetype": "text/x-python",
   "name": "python",
   "nbconvert_exporter": "python",
   "pygments_lexer": "ipython3",
   "version": "3.7.3"
  }
 },
 "nbformat": 4,
 "nbformat_minor": 2
}
