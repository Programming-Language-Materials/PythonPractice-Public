{
 "cells": [
  {
   "cell_type": "code",
   "execution_count": 6,
   "metadata": {},
   "outputs": [],
   "source": [
    "def swap(a, b):\n",
    "    temp = a\n",
    "    a=b\n",
    "    b=temp\n",
    "    return a, b\n",
    "    \n",
    "\n",
    "def Max_Heapify(unsorted, parentIndex, heapSize):\n",
    "    largestIndex = parentIndex\n",
    "    leftIndex = parentIndex + 1\n",
    "    rightIndex = parentIndex + 2\n",
    "    \n",
    "    if(leftIndex <= heapSize and unsorted[l] > unsorted[largestIndex]):\n",
    "        largestIndex = leftIndex\n",
    "    \n",
    "    if (rightIndex <= heapSize and unsorted[rightIndex] > unsorted[largestIndex]):\n",
    "        largestIndex = rightIndex\n",
    "        \n",
    "    if largestIndex != parentIndex:\n",
    "        swap(unsorted[largestIndex], unsorted[parentIndex])\n",
    "        # 또는 unsorted[largest], unsorted[index] = unsorted[index], unsorted[largest]\n",
    "        Max_Heapify(unsorted, largestIndex, heapSize)\n",
    "        "
   ]
  },
  {
   "cell_type": "code",
   "execution_count": 8,
   "metadata": {},
   "outputs": [],
   "source": [
    "# Build Max Heap\n",
    "def Build_Max_Heap(unsortedList):\n",
    "    for i in range(len(unsortedList)//2):\n",
    "        Max_Heapify(unsortedList, 0)"
   ]
  },
  {
   "cell_type": "code",
   "execution_count": 7,
   "metadata": {},
   "outputs": [],
   "source": [
    "Build_Max_Heap = [4, 1, 3, 2, 16, 9, 10, 14, 8, 7]"
   ]
  },
  {
   "cell_type": "code",
   "execution_count": null,
   "metadata": {},
   "outputs": [],
   "source": []
  }
 ],
 "metadata": {
  "kernelspec": {
   "display_name": "Python 3",
   "language": "python",
   "name": "python3"
  },
  "language_info": {
   "codemirror_mode": {
    "name": "ipython",
    "version": 3
   },
   "file_extension": ".py",
   "mimetype": "text/x-python",
   "name": "python",
   "nbconvert_exporter": "python",
   "pygments_lexer": "ipython3",
   "version": "3.7.1"
  }
 },
 "nbformat": 4,
 "nbformat_minor": 2
}
