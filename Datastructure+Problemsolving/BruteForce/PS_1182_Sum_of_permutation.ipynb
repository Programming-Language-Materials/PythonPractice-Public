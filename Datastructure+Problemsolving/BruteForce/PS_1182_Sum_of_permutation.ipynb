{
 "cells": [
  {
   "cell_type": "markdown",
   "metadata": {},
   "source": [
    "# 백준 1182번(https://www.acmicpc.net/problem/1182)\n",
    "\n",
    "<br>\n",
    "<section id=\"description\">\n",
    "\t\t\t\t<div class=\"headline\">\n",
    "\t\t\t\t<h2>문제</h2>\n",
    "\t\t\t\t</div>\n",
    "\t\t\t\t<div style=\"font-size:medium; line-height:30px;\" id=\"problem_description\">\n",
    "\t\t\t\t<p>N개의 정수로 이루어진 수열이 있을 때, 크기가 양수인 부분수열 중에서 그 수열의 원소를 다 더한 값이 S가 되는 경우의 수를 구하는 프로그램을 작성하시오.</p><br>\n",
    "                    \n",
    "<section id=\"input\">\n",
    "\t\t\t\t\t<div class=\"headline\">\n",
    "\t\t\t\t\t<h2>입력</h2>\n",
    "\t\t\t\t\t</div>\n",
    "\t\t\t\t\t<div style=\"font-size:medium; line-height:30px;\" id=\"problem_input\">\n",
    "\t\t\t\t\t<p>첫째 줄에 정수의 개수를 나타내는 N과 정수 S가 주어진다. (1 ≤ N ≤ 20, |S| ≤ 1,000,000) 둘째 줄에 N개의 정수가 빈 칸을 사이에 두고 주어진다. 주어지는 정수의 절댓값은 100,000을 넘지 않는다.</p><br>\n",
    "\n",
    "<section id=\"output\">\n",
    "\t\t\t\t\t<div class=\"headline\">\n",
    "\t\t\t\t\t<h2>출력</h2>\n",
    "\t\t\t\t\t</div>\n",
    "\t\t\t\t\t<div style=\"font-size:medium; line-height:30px;\" id=\"problem_output\">\n",
    "\t\t\t\t\t<p>첫째 줄에 합이 S가 되는 부분수열의 개수를 출력한다.</p><br>\n",
    "\n",
    "<div class=\"row\">\n",
    "\t\t\t\t\t<div class=\"col-md-6\">\n",
    "\t\t\t\t\t\t<section id=\"sampleinput1\">\n",
    "\t\t\t\t\t\t<div class=\"headline\">\n",
    "\t\t\t\t\t\t<h2>예제 입력 1</h2>\n",
    "\t\t\t\t\t\t</div>\n",
    "\t\t\t\t\t\t<pre class=\"sampledata\" id=\"sample-input-1\">5 0\n",
    "-7 -3 -2 5 8\n",
    "</pre>\n",
    "\t\t\t\t\t\t</section>\n",
    "\t\t\t\t\t</div>\n",
    "\t\t\t\t\t<div class=\"col-md-6\">\n",
    "\t\t\t\t\t\t<section id=\"sampleoutput1\">\n",
    "\t\t\t\t\t\t<div class=\"headline\">\n",
    "\t\t\t\t\t\t<h2>예제 출력 1</h2>\n",
    "\t\t\t\t\t\t</div>\n",
    "\t\t\t\t\t\t<pre class=\"sampledata\" id=\"sample-output-1\">1\n",
    "</pre>\n",
    "\t\t\t\t\t\t</section>\n",
    "\t\t\t\t\t</div>\n",
    "\t\t\t\t\t\t\t\t\t</div>"
   ]
  },
  {
   "cell_type": "code",
   "execution_count": 1,
   "metadata": {},
   "outputs": [],
   "source": [
    "def listSum(arr): # 주어진 리스트의 원소들의 합을 구하는 함수\n",
    "    sum = 0\n",
    "    for i in range(len(arr)):\n",
    "        sum+=arr[i]\n",
    "    return sum"
   ]
  },
  {
   "cell_type": "code",
   "execution_count": 2,
   "metadata": {},
   "outputs": [
    {
     "name": "stdout",
     "output_type": "stream",
     "text": [
      "1004\n"
     ]
    }
   ],
   "source": [
    "a = [1, 2, 3, -1, 999]\n",
    "print(listSum(a))"
   ]
  },
  {
   "cell_type": "code",
   "execution_count": 3,
   "metadata": {},
   "outputs": [
    {
     "name": "stdout",
     "output_type": "stream",
     "text": [
      "5 0\n",
      "-7 -3 -2 5 8\n",
      "1 \n",
      "\n"
     ]
    }
   ],
   "source": [
    "def cntSum(permu, index, pre_sum):\n",
    "    global ans\n",
    "    if N == index:\n",
    "        if (pre_sum == S):\n",
    "            ans += 1\n",
    "        return \n",
    "    cntSum(permu, index + 1, pre_sum + permu[index])\n",
    "    cntSum(permu, index + 1, pre_sum)\n",
    "    \n",
    "if __name__ == \"__main__\":\n",
    "    ans = 0 # 부분집합의 합이 result가 될 때 증가하는 변수 \n",
    "    N, S = list(map(int, input().split())) # N : 정수의 개수, S : 구해야 할 정수\n",
    "    permu = list(map(int, input().split()))\n",
    "    \n",
    "    cntSum(permu, 0, 0)\n",
    "    if S == 0:\n",
    "        ans -= 1\n",
    "    print(ans, '\\n')"
   ]
  },
  {
   "cell_type": "markdown",
   "metadata": {},
   "source": [
    "### 파이썬 내장함수 사용해서 풀어 보기\n",
    "파이썬은 `itertools.combinations`라는 조합에 대한 함수를 지원해 주기 때문에 n번만큼 조합을 반복 실행"
   ]
  },
  {
   "cell_type": "code",
   "execution_count": 4,
   "metadata": {},
   "outputs": [
    {
     "name": "stdout",
     "output_type": "stream",
     "text": [
      "5 0\n",
      "-7 -3 -2 5 8\n",
      "1\n"
     ]
    }
   ],
   "source": [
    "import itertools\n",
    "n,s = map(int,input().split())\n",
    "arr = list(map(int,input().split()))\n",
    "\n",
    "cnt =0\n",
    "for i in range(1,n+1):\n",
    "    for j in list( itertools.combinations(arr,i) ):\n",
    "        if(sum(j) == s):\n",
    "            cnt += 1\n",
    "        \n",
    "print(cnt)"
   ]
  },
  {
   "cell_type": "code",
   "execution_count": null,
   "metadata": {},
   "outputs": [],
   "source": []
  }
 ],
 "metadata": {
  "kernelspec": {
   "display_name": "Python 3",
   "language": "python",
   "name": "python3"
  },
  "language_info": {
   "codemirror_mode": {
    "name": "ipython",
    "version": 3
   },
   "file_extension": ".py",
   "mimetype": "text/x-python",
   "name": "python",
   "nbconvert_exporter": "python",
   "pygments_lexer": "ipython3",
   "version": "3.7.4"
  }
 },
 "nbformat": 4,
 "nbformat_minor": 2
}
