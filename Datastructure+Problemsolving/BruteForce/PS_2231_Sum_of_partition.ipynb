{
 "cells": [
  {
   "cell_type": "markdown",
   "metadata": {},
   "source": [
    "# 백준 2231번(https://www.acmicpc.net/problem/2231)\n",
    "\n",
    "<br>\n",
    "<section id=\"description\">\n",
    "\t\t\t\t<div class=\"headline\">\n",
    "\t\t\t\t<h2>문제</h2>\n",
    "\t\t\t\t</div>\n",
    "\t\t\t\t<div style=\"font-size:medium; line-height:30px;\" id=\"problem_description\">\n",
    "\t\t\t\t<p>어떤 자연수 N이 있을 때, 그 자연수 N의 분해합은 N과 N을 이루는 각 자리수의 합을 의미한다. 어떤 자연수 M의 분해합이 N인 경우, M을 N의 생성자라 한다. 예를 들어, 245의 분해합은 256(=245+2+4+5)이 된다. 따라서 245는 256의 생성자가 된다. 물론, 어떤 자연수의 경우에는 생성자가 없을 수도 있다. 반대로, 생성자가 여러 개인 자연수도 있을 수 있다.</p>\n",
    "\n",
    "<p>자연수 N이 주어졌을 때, N의 가장 작은 생성자를 구해내는 프로그램을 작성하시오.</p><br>\n",
    "\n",
    "<section id=\"input\">\n",
    "\t\t\t\t\t<div class=\"headline\">\n",
    "\t\t\t\t\t<h2>입력</h2>\n",
    "\t\t\t\t\t</div>\n",
    "\t\t\t\t\t<div style=\"font-size:medium; line-height:30px;\" id=\"problem_input\">\n",
    "\t\t\t\t\t<p>첫째 줄에 자연수 N(1 ≤ N ≤ 1,000,000)이 주어진다.</p><br.\n",
    "                                                                     \n",
    "                                                                     \n",
    "<section id=\"output\">\n",
    "\t\t\t\t\t<div class=\"headline\">\n",
    "\t\t\t\t\t<h2>출력</h2>\n",
    "\t\t\t\t\t</div>\n",
    "\t\t\t\t\t<div style=\"font-size:medium; line-height:30px;\" id=\"problem_output\">\n",
    "\t\t\t\t\t<p>첫째 줄에 답을 출력한다. 생성자가 없는 경우에는 0을 출력한다.</p><br>\n",
    "                        \n",
    "                        \n",
    "<section id=\"sampleinput1\">\n",
    "\t\t\t\t\t\t<div class=\"headline\">\n",
    "\t\t\t\t\t\t<h2>예제 입력 1\n",
    "\t\t\t\t\t\t\t<button type=\"button\" class=\"btn btn-link copy-button\" style=\"padding: 0px;\" data-clipboard-target=\"#sample-input-1\">복사</button>\n",
    "\t\t\t\t\t\t</h2>\n",
    "\t\t\t\t\t\t</div>\n",
    "\t\t\t\t\t\t<pre class=\"sampledata\" id=\"sample-input-1\">216\n",
    "</pre>\n",
    "\t\t\t\t\t\t</section><br>\n",
    "                        \n",
    "<section id=\"sampleoutput1\">\n",
    "\t\t\t\t\t\t<div class=\"headline\">\n",
    "\t\t\t\t\t\t<h2>예제 출력 1\n",
    "\t\t\t\t\t\t\t<button type=\"button\" class=\"btn btn-link copy-button\" style=\"padding: 0px;\" data-clipboard-target=\"#sample-output-1\">복사</button>\n",
    "\t\t\t\t\t\t</h2>\n",
    "\t\t\t\t\t\t</div>\n",
    "\t\t\t\t\t\t<pre class=\"sampledata\" id=\"sample-output-1\">198\n",
    "</pre>\n",
    "\t\t\t\t\t\t</section>"
   ]
  },
  {
   "cell_type": "code",
   "execution_count": 1,
   "metadata": {},
   "outputs": [
    {
     "name": "stdout",
     "output_type": "stream",
     "text": [
      "216\n",
      "198\n"
     ]
    }
   ],
   "source": [
    "def solution(n):\n",
    "    global ans\n",
    "    value = n\n",
    "    \n",
    "    while n!=0:\n",
    "        li = list(str(n))\n",
    "        li = list(map(int,li))\n",
    "        # print(li)\n",
    "        tmp = (n + sum(li))\n",
    "        if tmp == value:\n",
    "            ans.append(n)\n",
    "        n-=1\n",
    "        \n",
    "    if len(ans)==0:\n",
    "        return 0\n",
    "    else:\n",
    "        return min(ans)\n",
    "\n",
    "if __name__ == '__main__':\n",
    "    N = int(input()) # 숫자를 입력받기\n",
    "    ans = []\n",
    "    print(solution(N))\n",
    "    "
   ]
  },
  {
   "cell_type": "code",
   "execution_count": null,
   "metadata": {},
   "outputs": [],
   "source": []
  }
 ],
 "metadata": {
  "kernelspec": {
   "display_name": "Python 3",
   "language": "python",
   "name": "python3"
  },
  "language_info": {
   "codemirror_mode": {
    "name": "ipython",
    "version": 3
   },
   "file_extension": ".py",
   "mimetype": "text/x-python",
   "name": "python",
   "nbconvert_exporter": "python",
   "pygments_lexer": "ipython3",
   "version": "3.7.4"
  }
 },
 "nbformat": 4,
 "nbformat_minor": 2
}
